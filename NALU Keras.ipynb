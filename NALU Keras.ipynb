{
 "cells": [
  {
   "cell_type": "code",
   "execution_count": 1,
   "metadata": {},
   "outputs": [],
   "source": [
    "import numpy as np\n",
    "np.random.seed(20)\n",
    "import random"
   ]
  },
  {
   "cell_type": "code",
   "execution_count": 2,
   "metadata": {},
   "outputs": [],
   "source": [
    "def generate_data(num_train, num_test, dim, num_sum, fn):\n",
    "    data = np.arange(0,dim,dtype=np.int64)\n",
    "    X, y = [], []\n",
    "    for i in range(num_train + num_test):\n",
    "        idx_a = random.sample(range(dim), num_sum)\n",
    "        idx_b = random.sample([x for x in range(dim) if x not in idx_a], num_sum)\n",
    "        a, b = data[idx_a].sum(), data[idx_b].sum()\n",
    "        X.append([a, b])\n",
    "        y.append(fn(a, b))\n",
    "    X= np.array(X)\n",
    "    y = np.array(y)\n",
    "    #X = torch.FloatTensor(X)\n",
    "    #y = torch.FloatTensor(y).unsqueeze_(1)\n",
    "    indices = list(range(num_train + num_test))\n",
    "    np.random.shuffle(indices)\n",
    "    X_train, y_train = X[indices[num_test:]], y[indices[num_test:]]\n",
    "    X_test, y_test = X[indices[:num_test]], y[indices[:num_test]]\n",
    "    return X_train, y_train, X_test, y_test\n"
   ]
  },
  {
   "cell_type": "markdown",
   "metadata": {},
   "source": [
    "## Addition"
   ]
  },
  {
   "cell_type": "code",
   "execution_count": 3,
   "metadata": {},
   "outputs": [],
   "source": [
    "#Data Generation\n",
    "\n",
    "fn = lambda x, y: x + y\n",
    "X_train,Y_train,X_test, Y_test = generate_data(num_train=500, num_test=50,dim=100, num_sum=5, fn=fn)"
   ]
  },
  {
   "cell_type": "code",
   "execution_count": 4,
   "metadata": {},
   "outputs": [
    {
     "name": "stderr",
     "output_type": "stream",
     "text": [
      "C:\\Users\\Codeseeder\\Anaconda3\\lib\\site-packages\\h5py\\__init__.py:36: FutureWarning: Conversion of the second argument of issubdtype from `float` to `np.floating` is deprecated. In future, it will be treated as `np.float64 == np.dtype(float).type`.\n",
      "  from ._conv import register_converters as _register_converters\n",
      "Using TensorFlow backend.\n"
     ]
    }
   ],
   "source": [
    "from keras.models import Model\n",
    "from keras.layers import Input\n",
    "from keras.optimizers import RMSprop\n",
    "from keras.callbacks import ModelCheckpoint\n",
    "import os\n",
    "from nac import NAC\n",
    "from nalu import NALU"
   ]
  },
  {
   "cell_type": "code",
   "execution_count": 5,
   "metadata": {},
   "outputs": [],
   "source": [
    "#Hyperparameters \n",
    "units = 2\n",
    "num_samples = 1000"
   ]
  },
  {
   "cell_type": "code",
   "execution_count": 6,
   "metadata": {
    "scrolled": true
   },
   "outputs": [
    {
     "name": "stdout",
     "output_type": "stream",
     "text": [
      "_________________________________________________________________\n",
      "Layer (type)                 Output Shape              Param #   \n",
      "=================================================================\n",
      "input_1 (InputLayer)         (None, 2)                 0         \n",
      "_________________________________________________________________\n",
      "nac_1 (NAC)                  (None, 2)                 8         \n",
      "_________________________________________________________________\n",
      "nac_2 (NAC)                  (None, 1)                 4         \n",
      "=================================================================\n",
      "Total params: 12\n",
      "Trainable params: 12\n",
      "Non-trainable params: 0\n",
      "_________________________________________________________________\n"
     ]
    }
   ],
   "source": [
    "# generate the model\n",
    "ip = Input(shape=(2,))\n",
    "x = NAC(units)(ip)\n",
    "x = NAC(1)(x)\n",
    "\n",
    "model = Model(ip, x)\n",
    "model.summary()\n",
    "\n",
    "optimizer = RMSprop(0.1)\n",
    "model.compile(optimizer, 'mse')"
   ]
  },
  {
   "cell_type": "code",
   "execution_count": 7,
   "metadata": {
    "scrolled": true
   },
   "outputs": [
    {
     "data": {
      "text/plain": [
       "<keras.callbacks.History at 0x29261f79978>"
      ]
     },
     "execution_count": 7,
     "metadata": {},
     "output_type": "execute_result"
    }
   ],
   "source": [
    "# Train model\n",
    "model.fit(X_train, Y_train, batch_size=64, epochs=500,\n",
    "          verbose=0,validation_data=(X_test, Y_test))"
   ]
  },
  {
   "cell_type": "code",
   "execution_count": 8,
   "metadata": {},
   "outputs": [
    {
     "name": "stdout",
     "output_type": "stream",
     "text": [
      "50/50 [==============================] - 0s 20us/step\n",
      "Mean Squared error :  9.685754420729609e-10\n"
     ]
    }
   ],
   "source": [
    "scores = model.evaluate(X_test, Y_test, batch_size=128)\n",
    "print(\"Mean Squared error : \", scores)"
   ]
  },
  {
   "cell_type": "markdown",
   "metadata": {},
   "source": [
    "## Subtraction"
   ]
  },
  {
   "cell_type": "code",
   "execution_count": 9,
   "metadata": {},
   "outputs": [],
   "source": [
    "#Data Generation\n",
    "\n",
    "fn = lambda x, y: x - y\n",
    "X_train,Y_train,X_test, Y_test = generate_data(num_train=500, num_test=50,dim=100, num_sum=5, fn=fn)"
   ]
  },
  {
   "cell_type": "code",
   "execution_count": 10,
   "metadata": {},
   "outputs": [
    {
     "name": "stdout",
     "output_type": "stream",
     "text": [
      "_________________________________________________________________\n",
      "Layer (type)                 Output Shape              Param #   \n",
      "=================================================================\n",
      "input_2 (InputLayer)         (None, 2)                 0         \n",
      "_________________________________________________________________\n",
      "nac_3 (NAC)                  (None, 2)                 8         \n",
      "_________________________________________________________________\n",
      "nac_4 (NAC)                  (None, 1)                 4         \n",
      "=================================================================\n",
      "Total params: 12\n",
      "Trainable params: 12\n",
      "Non-trainable params: 0\n",
      "_________________________________________________________________\n"
     ]
    }
   ],
   "source": [
    "# generate the model\n",
    "ip = Input(shape=(2,))\n",
    "x = NAC(units)(ip)\n",
    "x = NAC(1)(x)\n",
    "\n",
    "model = Model(ip, x)\n",
    "model.summary()\n",
    "\n",
    "optimizer = RMSprop(0.1)\n",
    "model.compile(optimizer, 'mse')"
   ]
  },
  {
   "cell_type": "code",
   "execution_count": 11,
   "metadata": {},
   "outputs": [
    {
     "data": {
      "text/plain": [
       "<keras.callbacks.History at 0x292631cf630>"
      ]
     },
     "execution_count": 11,
     "metadata": {},
     "output_type": "execute_result"
    }
   ],
   "source": [
    "# Train model\n",
    "model.fit(X_train, Y_train, batch_size=64, epochs=500,\n",
    "          verbose=0,validation_data=(X_test, Y_test))"
   ]
  },
  {
   "cell_type": "code",
   "execution_count": 12,
   "metadata": {},
   "outputs": [
    {
     "name": "stdout",
     "output_type": "stream",
     "text": [
      "50/50 [==============================] - 0s 20us/step\n",
      "Mean Squared error :  2.1665982896657e-10\n"
     ]
    }
   ],
   "source": [
    "scores = model.evaluate(X_test, Y_test, batch_size=128)\n",
    "print(\"Mean Squared error : \", scores)"
   ]
  },
  {
   "cell_type": "markdown",
   "metadata": {},
   "source": [
    "## Multiplication"
   ]
  },
  {
   "cell_type": "code",
   "execution_count": 13,
   "metadata": {},
   "outputs": [],
   "source": [
    "#Data Generation\n",
    "fn = lambda x, y: x * y\n",
    "X_train,Y_train,X_test, Y_test = generate_data(num_train=500, num_test=50,dim=100, num_sum=5, fn=fn)"
   ]
  },
  {
   "cell_type": "code",
   "execution_count": 14,
   "metadata": {
    "scrolled": true
   },
   "outputs": [
    {
     "name": "stdout",
     "output_type": "stream",
     "text": [
      "_________________________________________________________________\n",
      "Layer (type)                 Output Shape              Param #   \n",
      "=================================================================\n",
      "input_3 (InputLayer)         (None, 2)                 0         \n",
      "_________________________________________________________________\n",
      "nalu_1 (NALU)                (None, 2)                 12        \n",
      "_________________________________________________________________\n",
      "nalu_2 (NALU)                (None, 1)                 6         \n",
      "=================================================================\n",
      "Total params: 18\n",
      "Trainable params: 18\n",
      "Non-trainable params: 0\n",
      "_________________________________________________________________\n"
     ]
    }
   ],
   "source": [
    "# generate the model\n",
    "ip = Input(shape=(2,))\n",
    "x = NALU(units)(ip)\n",
    "x = NALU(1)(x)\n",
    "\n",
    "model = Model(ip, x)\n",
    "model.summary()\n",
    "\n",
    "optimizer = RMSprop(0.1)\n",
    "model.compile(optimizer, 'mse')"
   ]
  },
  {
   "cell_type": "code",
   "execution_count": 15,
   "metadata": {},
   "outputs": [
    {
     "data": {
      "text/plain": [
       "<keras.callbacks.History at 0x292634d7320>"
      ]
     },
     "execution_count": 15,
     "metadata": {},
     "output_type": "execute_result"
    }
   ],
   "source": [
    "# Train model\n",
    "model.fit(X_train, Y_train, batch_size=64, epochs=500,\n",
    "          verbose=0,validation_data=(X_test, Y_test))"
   ]
  },
  {
   "cell_type": "code",
   "execution_count": 16,
   "metadata": {},
   "outputs": [
    {
     "name": "stdout",
     "output_type": "stream",
     "text": [
      "50/50 [==============================] - 0s 20us/step\n",
      "Mean Squared error :  0.019501496106386185\n"
     ]
    }
   ],
   "source": [
    "scores = model.evaluate(X_test, Y_test, batch_size=128)\n",
    "print(\"Mean Squared error : \", scores)"
   ]
  },
  {
   "cell_type": "markdown",
   "metadata": {},
   "source": [
    "## Division"
   ]
  },
  {
   "cell_type": "code",
   "execution_count": 17,
   "metadata": {},
   "outputs": [],
   "source": [
    "#Data Generation\n",
    "fn = lambda x, y: x / y\n",
    "X_train,Y_train,X_test, Y_test = generate_data(num_train=500, num_test=50,dim=100, num_sum=5, fn=fn)"
   ]
  },
  {
   "cell_type": "code",
   "execution_count": 18,
   "metadata": {},
   "outputs": [
    {
     "name": "stdout",
     "output_type": "stream",
     "text": [
      "_________________________________________________________________\n",
      "Layer (type)                 Output Shape              Param #   \n",
      "=================================================================\n",
      "input_4 (InputLayer)         (None, 2)                 0         \n",
      "_________________________________________________________________\n",
      "nalu_3 (NALU)                (None, 2)                 12        \n",
      "_________________________________________________________________\n",
      "nalu_4 (NALU)                (None, 1)                 6         \n",
      "=================================================================\n",
      "Total params: 18\n",
      "Trainable params: 18\n",
      "Non-trainable params: 0\n",
      "_________________________________________________________________\n"
     ]
    }
   ],
   "source": [
    "# generate the model\n",
    "ip = Input(shape=(2,))\n",
    "x = NALU(units)(ip)\n",
    "x = NALU(1)(x)\n",
    "\n",
    "model = Model(ip, x)\n",
    "model.summary()\n",
    "\n",
    "optimizer = RMSprop(0.1)\n",
    "model.compile(optimizer, 'mse')"
   ]
  },
  {
   "cell_type": "code",
   "execution_count": 19,
   "metadata": {},
   "outputs": [
    {
     "data": {
      "text/plain": [
       "<keras.callbacks.History at 0x2926389e5c0>"
      ]
     },
     "execution_count": 19,
     "metadata": {},
     "output_type": "execute_result"
    }
   ],
   "source": [
    "# Train model\n",
    "model.fit(X_train, Y_train, batch_size=64, epochs=2000,\n",
    "          verbose=0,validation_data=(X_test, Y_test))"
   ]
  },
  {
   "cell_type": "code",
   "execution_count": 20,
   "metadata": {},
   "outputs": [
    {
     "name": "stdout",
     "output_type": "stream",
     "text": [
      "50/50 [==============================] - 0s 20us/step\n",
      "Mean Squared error :  3.7469121555444573e-11\n"
     ]
    }
   ],
   "source": [
    "scores = model.evaluate(X_test, Y_test, batch_size=128)\n",
    "print(\"Mean Squared error : \", scores)"
   ]
  },
  {
   "cell_type": "markdown",
   "metadata": {},
   "source": [
    "## Square"
   ]
  },
  {
   "cell_type": "code",
   "execution_count": 21,
   "metadata": {},
   "outputs": [],
   "source": [
    "#Data Generation\n",
    "fn = lambda x, y: x*x\n",
    "X_train,Y_train,X_test, Y_test = generate_data(num_train=500, num_test=50,dim=100, num_sum=5, fn=fn)"
   ]
  },
  {
   "cell_type": "code",
   "execution_count": 22,
   "metadata": {
    "scrolled": true
   },
   "outputs": [
    {
     "name": "stdout",
     "output_type": "stream",
     "text": [
      "_________________________________________________________________\n",
      "Layer (type)                 Output Shape              Param #   \n",
      "=================================================================\n",
      "input_5 (InputLayer)         (None, 2)                 0         \n",
      "_________________________________________________________________\n",
      "nalu_5 (NALU)                (None, 2)                 12        \n",
      "_________________________________________________________________\n",
      "nalu_6 (NALU)                (None, 1)                 6         \n",
      "=================================================================\n",
      "Total params: 18\n",
      "Trainable params: 18\n",
      "Non-trainable params: 0\n",
      "_________________________________________________________________\n"
     ]
    }
   ],
   "source": [
    "# generate the model\n",
    "ip = Input(shape=(2,))\n",
    "x = NALU(units)(ip)\n",
    "x = NALU(1)(x)\n",
    "\n",
    "model = Model(ip, x)\n",
    "model.summary()\n",
    "\n",
    "optimizer = RMSprop(0.1)\n",
    "model.compile(optimizer, 'mse')"
   ]
  },
  {
   "cell_type": "code",
   "execution_count": 23,
   "metadata": {},
   "outputs": [
    {
     "data": {
      "text/plain": [
       "<keras.callbacks.History at 0x2926318ea90>"
      ]
     },
     "execution_count": 23,
     "metadata": {},
     "output_type": "execute_result"
    }
   ],
   "source": [
    "# Train model\n",
    "model.fit(X_train, Y_train, batch_size=64, epochs=2000,\n",
    "          verbose=0,validation_data=(X_test, Y_test))"
   ]
  },
  {
   "cell_type": "code",
   "execution_count": 24,
   "metadata": {},
   "outputs": [
    {
     "name": "stdout",
     "output_type": "stream",
     "text": [
      "50/50 [==============================] - 0s 0us/step\n",
      "Mean Squared error :  0.0004995727795176208\n"
     ]
    }
   ],
   "source": [
    "scores = model.evaluate(X_test, Y_test, batch_size=128)\n",
    "print(\"Mean Squared error : \", scores)"
   ]
  },
  {
   "cell_type": "markdown",
   "metadata": {},
   "source": [
    "## SquareRoot"
   ]
  },
  {
   "cell_type": "code",
   "execution_count": 25,
   "metadata": {},
   "outputs": [],
   "source": [
    "#Data Generation\n",
    "fn = lambda x, y: np.sqrt(x)\n",
    "X_train,Y_train,X_test, Y_test = generate_data(num_train=500, num_test=50,dim=100, num_sum=5, fn=fn)"
   ]
  },
  {
   "cell_type": "code",
   "execution_count": 26,
   "metadata": {},
   "outputs": [
    {
     "name": "stdout",
     "output_type": "stream",
     "text": [
      "_________________________________________________________________\n",
      "Layer (type)                 Output Shape              Param #   \n",
      "=================================================================\n",
      "input_6 (InputLayer)         (None, 2)                 0         \n",
      "_________________________________________________________________\n",
      "nalu_7 (NALU)                (None, 2)                 12        \n",
      "_________________________________________________________________\n",
      "nalu_8 (NALU)                (None, 1)                 6         \n",
      "=================================================================\n",
      "Total params: 18\n",
      "Trainable params: 18\n",
      "Non-trainable params: 0\n",
      "_________________________________________________________________\n"
     ]
    }
   ],
   "source": [
    "# generate the model\n",
    "ip = Input(shape=(2,))\n",
    "x = NALU(units)(ip)\n",
    "x = NALU(1)(x)\n",
    "\n",
    "model = Model(ip, x)\n",
    "model.summary()\n",
    "\n",
    "optimizer = RMSprop(0.1)\n",
    "model.compile(optimizer, 'mse')"
   ]
  },
  {
   "cell_type": "code",
   "execution_count": 27,
   "metadata": {},
   "outputs": [
    {
     "data": {
      "text/plain": [
       "<keras.callbacks.History at 0x29264ce8080>"
      ]
     },
     "execution_count": 27,
     "metadata": {},
     "output_type": "execute_result"
    }
   ],
   "source": [
    "# Train model\n",
    "model.fit(X_train, Y_train, batch_size=64, epochs=1000,\n",
    "          verbose=0,validation_data=(X_test, Y_test))"
   ]
  },
  {
   "cell_type": "code",
   "execution_count": 28,
   "metadata": {},
   "outputs": [
    {
     "name": "stdout",
     "output_type": "stream",
     "text": [
      "50/50 [==============================] - 0s 0us/step\n",
      "Mean Squared error :  0.6876460909843445\n"
     ]
    }
   ],
   "source": [
    "scores = model.evaluate(X_test, Y_test, batch_size=128)\n",
    "print(\"Mean Squared error : \", scores)"
   ]
  }
 ],
 "metadata": {
  "kernelspec": {
   "display_name": "Python 3",
   "language": "python",
   "name": "python3"
  },
  "language_info": {
   "codemirror_mode": {
    "name": "ipython",
    "version": 3
   },
   "file_extension": ".py",
   "mimetype": "text/x-python",
   "name": "python",
   "nbconvert_exporter": "python",
   "pygments_lexer": "ipython3",
   "version": "3.6.5"
  }
 },
 "nbformat": 4,
 "nbformat_minor": 2
}
